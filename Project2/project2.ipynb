{
 "cells": [
  {
   "cell_type": "code",
   "execution_count": 26,
   "metadata": {},
   "outputs": [],
   "source": [
    "# All imports and variables you will need\n",
    "\n",
    "import numpy as np\n",
    "OBSERVATIONS = [i for i in range(10)]  # all possible vertical coordinates\n",
    "STATES = [(i, j) for i in range(10) for j in range(10)]  # all 100 states\n",
    "ACTIONS = [\"Left\", \"Right\", \"Up\", \"Down\"]  # the four possible actions\n",
    "\n",
    "def generate_random_float():\n",
    "  \"\"\" Returns a random float between 0 and 1 \n",
    "  \"\"\"\n",
    "  return np.random.rand()"
   ]
  },
  {
   "cell_type": "markdown",
   "metadata": {},
   "source": [
    "## Calculating Probabilities\n",
    "\n",
    "### 1. `action_prior(action)` [2 points]\n",
    "\n",
    "This function will take in one of the actions in `[Left, Right, Up, Down]`, and return the probability of that action occurring. You will be returning a `float` between 0 and 1 which is the probability of that action. You will be using the following table as the probability mass function for that action.\n",
    "\n",
    "$a_{i}$ | $P$$($$A$$=$$a_{i}$$)$\n",
    "--- | ---\n",
    "Left | 0.2\n",
    "Right | 0.6\n",
    "Up | 0.1\n",
    "Down | 0.1"
   ]
  },
  {
   "cell_type": "code",
   "execution_count": 27,
   "metadata": {},
   "outputs": [],
   "source": [
    "def action_prior(action):\n",
    "  \"\"\"Return prior probability distribution on an action.\n",
    "    arguments:\n",
    "      action (string): \"Left\", \"Right\", \"Up\", \"Down\"\n",
    "    returns:\n",
    "      probability of given action (float).\n",
    "  \"\"\"\n",
    "  dist = {\n",
    "    \"Left\": 0.2,\n",
    "    \"Right\": 0.6,\n",
    "    \"Up\": 0.1,\n",
    "    \"Down\": 0.1\n",
    "  }\n",
    "  # assert action in dist, 'action \"{}\" not in dist'.format(action)\n",
    "  return dist[action]"
   ]
  },
  {
   "cell_type": "code",
   "execution_count": 28,
   "metadata": {},
   "outputs": [
    {
     "data": {
      "text/plain": [
       "0.6"
      ]
     },
     "execution_count": 28,
     "metadata": {},
     "output_type": "execute_result"
    }
   ],
   "source": [
    "# Testing 1\n",
    "action_prior(\"Right\")"
   ]
  },
  {
   "cell_type": "markdown",
   "metadata": {},
   "source": [
    "### 2. `state_prior(state)` [2 points]\n",
    "\n",
    "This function will take in one of the states of the grid world and return the probability of the robot being in that state. You will be returning a `float` between 0 and 1 which is the probability of that action. A state is represented by $(i,j)$, where $i$ is the row number in the grid, between 0 and 9 and $j$ is the column number in the grid, between 0 and 9. You will be using the following grid world diagram to calculate the probability of a state. You should use a numpy array to represent the grid world. The origin of this grid world (0,0) is in the top left corner. $i$ increases as you go down in the grid, and $j$ increases as you go right in the grid.\n",
    "\n",
    "<img src=\"https://i.ibb.co/TqfCLCw/grid-world.png\" style=\"width: 400px\"/>\n"
   ]
  },
  {
   "cell_type": "code",
   "execution_count": 29,
   "metadata": {},
   "outputs": [],
   "source": [
    "def state_prior(state):\n",
    "  \"\"\"Return prior probability distribution on a state.\n",
    "  arguments:\n",
    "      state (tuple): (i: int, j: int)\n",
    "  returns:\n",
    "      probability of given state (float).\n",
    "  \"\"\"\n",
    "  # Use np.array to create a 2D array that represents the prior on the state\n",
    "  # (i,j) where i is the row index and j is the column index of the agent's\n",
    "  # position.\n",
    "  states_dist = np.array([\n",
    "    [.0, .0, .0, .0, .1, .0, .0, .0, .0, .0,],\n",
    "    [.0, .1, .0, .0, .0, .0, .0, .0, .0, .0,],\n",
    "    [.0, .0, .0, .0, .0, .0, .0, .0, .0, .0,],\n",
    "    [.0, .0, .0, .1, .0, .0, .0, .0, .0, .0,],\n",
    "    [.1, .0, .0, .0, .0, .1, .0, .0, .1, .0,],\n",
    "    [.0, .0, .0, .0, .0, .0, .0, .0, .0, .0,],\n",
    "    [.0, .0, .0, .0, .0, .0, .0, .0, .0, .0,],\n",
    "    [.0, .0, .1, .0, .0, .0, .1, .0, .0, .0,],\n",
    "    [.0, .0, .0, .0, .0, .0, .0, .1, .0, .0,],\n",
    "    [.0, .0, .0, .0, .0, .0, .0, .0, .0, .1,]\n",
    "  ])\n",
    "  # assert type(state) is tuple and len(state) == 2 and type(state[0]) is int and type(state[1]) is int, 'invalid argument state'\n",
    "  # assert state[0] >= 0 and state[1] >= 0 and state[0] < states_dist.shape[0] and state[1] < states_dist.shape[1], 'state out of bounds'\n",
    "  return float(states_dist[[state[0]], [state[1]]])"
   ]
  },
  {
   "cell_type": "code",
   "execution_count": 30,
   "metadata": {},
   "outputs": [
    {
     "data": {
      "text/plain": [
       "0.1"
      ]
     },
     "execution_count": 30,
     "metadata": {},
     "output_type": "execute_result"
    }
   ],
   "source": [
    "# Test\n",
    "state_prior([9, 9])"
   ]
  },
  {
   "cell_type": "markdown",
   "metadata": {},
   "source": [
    "### 3. `sensor_model(k, S)` [3 points]\n",
    "\n",
    "This function will take in a value of the sensor $k$, and the state $(i,j)$ that the robot is at. You will need to calculate $P(O=k|S)$. The sensor reports the row that the robot is at in the grid world. You can use the following equations to implement this function.\n",
    "\n",
    "![](https://i.ibb.co/qxF09cW/sensor-model.png)\n"
   ]
  },
  {
   "cell_type": "code",
   "execution_count": 31,
   "metadata": {},
   "outputs": [],
   "source": [
    "# Define the sensor model conditional distribution, P(O|S)\n",
    "def sensor_model(k, S):\n",
    "  \"\"\"Give value of Conditional Probability Table (CPT) for sensor model P(O|S).\n",
    "  arguments:\n",
    "      k: the value of the sensor, corresponding to a row in the grid world (i).\n",
    "      S (int,int): a tuple (i,j), representing the position in the grid.\n",
    "  returns:\n",
    "      P(k|i,j) (float).\n",
    "  notes:\n",
    "      Sensor reports noisy observation of vertical coordinate i.\n",
    "  \"\"\"\n",
    "  if k == S[0]:\n",
    "    return 0.91\n",
    "  else:\n",
    "    return 0.01"
   ]
  },
  {
   "cell_type": "code",
   "execution_count": 32,
   "metadata": {},
   "outputs": [
    {
     "data": {
      "text/plain": [
       "0.01"
      ]
     },
     "execution_count": 32,
     "metadata": {},
     "output_type": "execute_result"
    }
   ],
   "source": [
    "# Test\n",
    "sensor_model(8, (9, 1))"
   ]
  },
  {
   "cell_type": "markdown",
   "metadata": {},
   "source": [
    "### 4.`transition_model(T, S, A)` [5 points]\n",
    "\n",
    "This function will take in the next state the robot is in, $T = (i,j)$, the current state the robot is in, $S = (i,j)$, and $A$, an action from `[Left, Right, Up, Down]`. You will be calculating $P(T|S, A)$. You will be using the following statements to calculate the probability.\n",
    "\n",
    "\n",
    "$T$ is the correct state when you take action $A$ from $S$; $P(T|S,A) = 0.85$ \\\\\n",
    "$T$ is a possible state when you take an action other than $A$ from $S$; $P(T|S,A) = 0.05$ \\\\\n",
    "Otherwise; $P(T|S,A) = 0$\n",
    "\n",
    "This model accounts for the robot possibly taking the wrong action.\n",
    "\n",
    "**NOTE:** If the robot is at the edge of the grid world, and tries to perform an action that will take it out of the grid world, it will stay in the same state (location). \n"
   ]
  },
  {
   "cell_type": "code",
   "execution_count": 33,
   "metadata": {},
   "outputs": [],
   "source": [
    "# Define the state transition model P(T|S,A)\n",
    "def transition_model(T, S, A):\n",
    "  \"\"\"Give value of CPT for transition model P(T|S,A).\n",
    "  arguments:\n",
    "      T (int,int): a tuple (i,j), representing the next position in the grid\n",
    "      S (int,int): a tuple (i,j), representing the position in the grid.\n",
    "      A (str): a string representing the action to be taken\n",
    "  returns:\n",
    "      P(T|S,A) (float).\n",
    "  \"\"\"\n",
    "  def next_state(S, A):\n",
    "    transition_offset = {\n",
    "      'Left': (0, -1),\n",
    "      'Right': (0, 1),\n",
    "      'Up': (-1, 0),\n",
    "      'Down': (1, 0)\n",
    "    }\n",
    "    temp = (S[0] + transition_offset[A][0], S[1] + transition_offset[A][1])\n",
    "    if temp in STATES:\n",
    "      return temp\n",
    "    else:\n",
    "      return S\n",
    "   \n",
    "  next_states_prob = {}\n",
    "  for action in ACTIONS:\n",
    "    if action == A:\n",
    "      this_prob = 0.85\n",
    "    else:\n",
    "      this_prob = 0.05\n",
    "    this_next_state = next_state(S, action)\n",
    "    if this_next_state not in next_states_prob:\n",
    "      next_states_prob[this_next_state] = 0.0\n",
    "    next_states_prob[this_next_state] = next_states_prob[this_next_state] + this_prob\n",
    "  \n",
    "  if T in next_states_prob:\n",
    "    return next_states_prob[T]\n",
    "  else:\n",
    "    return 0.0"
   ]
  },
  {
   "cell_type": "code",
   "execution_count": 34,
   "metadata": {},
   "outputs": [
    {
     "data": {
      "text/plain": [
       "0.1"
      ]
     },
     "execution_count": 34,
     "metadata": {},
     "output_type": "execute_result"
    }
   ],
   "source": [
    "# Test\n",
    "transition_model((0, 0), (0, 0), \"Down\")"
   ]
  },
  {
   "cell_type": "markdown",
   "metadata": {},
   "source": [
    "### Extra Credit: `transition_model_portal(T,S,A)` [5 points]\n",
    "\n",
    "You will be implementing the same transition model as above; however, there are portals in the grid world now. The portals are as such:\n",
    "\n",
    "1. Going Right from (3,4) takes you to (6,3)\n",
    "2. Going Up from (0,1) takes you to (5,5)\n",
    "3. Going Left from (3,8) takes you to (0,0)\n",
    "\n",
    "Once again, you will be using the following statements to calculate the probability:\n",
    "\n",
    "$T$ is the correct state when you take action $A$ from $S$; $P(T|S,A) = 0.85$ \\\\\n",
    "$T$ is a possible state when you take an action other than $A$ from $S$; $P(T|S,A) = 0.05$ \\\\\n",
    "Otherwise; $P(T|S,A) = 0$\n",
    "\n",
    "**NOTE**: If the robot is at the edge of the grid world, and tries to perform an action that will take it out of the grid world, it will stay in the same state (location), unless a portal dictates otherwise."
   ]
  },
  {
   "cell_type": "code",
   "execution_count": 35,
   "metadata": {},
   "outputs": [],
   "source": [
    "def transition_model_portal(T, S, A):\n",
    "  \"\"\"Give value of CPT for transition model P(T|S,A) with portals.\n",
    "    arguments:\n",
    "        T (int,int): a tuple (i,j), representing the next position in the grid\n",
    "        S (int,int): a tuple (i,j), representing the position in the grid.\n",
    "        A (str): a string representing the action to be taken\n",
    "    returns:\n",
    "        P(T|S,A) (float).\n",
    "  \"\"\"\n",
    "  def next_state(S, A):\n",
    "    transition_offset = {\n",
    "      'Left': (0, -1),\n",
    "      'Right': (0, 1),\n",
    "      'Up': (-1, 0),\n",
    "      'Down': (1, 0)\n",
    "    }\n",
    "    portals = {\n",
    "        ((3, 4), 'Right'): (6, 3),\n",
    "        ((0, 1), 'Up'): (5, 5),\n",
    "        ((3, 8), 'Left'): (0, 0)\n",
    "    }\n",
    "    if (S, A) in portals:\n",
    "      return portals[(S, A)]\n",
    "    temp = (S[0] + transition_offset[A][0], S[1] + transition_offset[A][1])\n",
    "    if temp in STATES:\n",
    "      return temp\n",
    "    else:\n",
    "      return S\n",
    "   \n",
    "  next_states_prob = {}\n",
    "  for action in ACTIONS:\n",
    "    if action == A:\n",
    "      this_prob = 0.85\n",
    "    else:\n",
    "      this_prob = 0.05\n",
    "    this_next_state = next_state(S, action)\n",
    "    if this_next_state not in next_states_prob:\n",
    "      next_states_prob[this_next_state] = 0.0\n",
    "    next_states_prob[this_next_state] = next_states_prob[this_next_state] + this_prob\n",
    "  \n",
    "  if T in next_states_prob:\n",
    "    return next_states_prob[T]\n",
    "  else:\n",
    "    return 0.0"
   ]
  },
  {
   "cell_type": "code",
   "execution_count": 36,
   "metadata": {},
   "outputs": [
    {
     "data": {
      "text/plain": [
       "0.0"
      ]
     },
     "execution_count": 36,
     "metadata": {},
     "output_type": "execute_result"
    }
   ],
   "source": [
    "transition_model((6, 3), (3, 4), 'Right')"
   ]
  },
  {
   "cell_type": "markdown",
   "metadata": {},
   "source": [
    "## Sampling\n",
    "\n",
    "### 1. `calculate_cdf(pmf, ordered_outcomes)` [5 points]\n",
    "\n",
    "This function will take in a probability mass function (pmf) and all the possible outcomes the pmf can take. For example, if we consider the cdf for actions, the variable `ordered_outcomes` will be `[Left, Right, Up, Down]`. You will be returning a function `cdf(outcome)`, which returns the cumulative probability of that outcome. For example, in the table below, that would be $F(a_i)$. **HINT**: Numpy will be useful here!\n",
    "\n",
    "$a_{i}$ | $P$$($$A$$=$$a_{i}$$)$ | $F$$($$a_{i}$$)$\n",
    "--- | --- | ---\n",
    "Left | 0.2 | 0.2\n",
    "Right | 0.6 | 0.8\n",
    "Up | 0.1 | 0.9\n",
    "Down | 0.1 | 1.0\n"
   ]
  },
  {
   "cell_type": "code",
   "execution_count": 37,
   "metadata": {},
   "outputs": [],
   "source": [
    "# Create the function cdf\n",
    "def calculate_cdf(pmf, ordered_outcomes):\n",
    "  \"\"\"Calculate cumulative distribution function.\n",
    "  arguments:\n",
    "      pmf (function): probability mass function.\n",
    "      ordered_outcomes (list): all outcomes in an ordered list.\n",
    "  returns:\n",
    "      a function that represents the CDF\n",
    "  note:\n",
    "      The ordered_outcomes defines how the CDF behaves.\n",
    "  \"\"\"\n",
    "  \n",
    "  def cdf(outcome):\n",
    "    pmf_result = np.array([pmf(outcome) for outcome in ordered_outcomes])\n",
    "    cdf_list = np.cumsum(pmf_result)\n",
    "    look_up = dict(zip(ordered_outcomes, cdf_list))\n",
    "    return look_up[outcome]\n",
    "    \n",
    "\n",
    "  return cdf"
   ]
  },
  {
   "cell_type": "code",
   "execution_count": 38,
   "metadata": {},
   "outputs": [],
   "source": [
    "# Test\n",
    "def pmf(action):\n",
    "  look_up = {\n",
    "    'Left': 0.2,\n",
    "    'Right': 0.6,\n",
    "    'Up': 0.1,\n",
    "    'Down': 0.1\n",
    "  }\n",
    "  return look_up[action]\n",
    "\n",
    "cdf = calculate_cdf(pmf, ACTIONS)"
   ]
  },
  {
   "cell_type": "code",
   "execution_count": 39,
   "metadata": {},
   "outputs": [
    {
     "data": {
      "text/plain": [
       "1.0"
      ]
     },
     "execution_count": 39,
     "metadata": {},
     "output_type": "execute_result"
    }
   ],
   "source": [
    "# Test\n",
    "cdf('Down')"
   ]
  },
  {
   "cell_type": "markdown",
   "metadata": {},
   "source": [
    "### 2. `sample_from_pmf(pmf, ordered_outcomes)` [6 points]\n",
    " \n",
    "This function will take in a pmf and all the possible outcomes the pmf can take, and the goal is to sample from this pmf, using inverse transform sampling. You will be returning either an action or state, depending on the pmf and ordered outcomes.\n",
    "\n",
    "**HINT**: Numpy will be useful here! \n",
    "\n",
    "Please use `generate_random_float` to get a random float between 0 and 1."
   ]
  },
  {
   "cell_type": "code",
   "execution_count": 40,
   "metadata": {},
   "outputs": [],
   "source": [
    "# Fill in the body of the following function to sample from an arbitrary PMF.\n",
    "def sample_from_pmf(pmf, ordered_outcomes):\n",
    "  \"\"\"Sample from a PMF\n",
    "    arguments:\n",
    "      pmf (function): a probability mass function\n",
    "      ordered_outcomes (list): ordered list of all outcomes\n",
    "    returns:\n",
    "      a state or an action, depending on the pmf and outcomes\n",
    "  \"\"\"\n",
    "  cdf = calculate_cdf(pmf, ordered_outcomes)\n",
    "  rand_float = generate_random_float()\n",
    "  for outcome in ordered_outcomes:\n",
    "    if cdf(outcome) > rand_float:\n",
    "      return outcome"
   ]
  },
  {
   "cell_type": "code",
   "execution_count": 41,
   "metadata": {},
   "outputs": [
    {
     "name": "stdout",
     "output_type": "stream",
     "text": [
      "Right\n",
      "Left\n",
      "Left\n",
      "Right\n",
      "Right\n",
      "Left\n",
      "Right\n",
      "Up\n",
      "Right\n",
      "Right\n",
      "Right\n",
      "Right\n",
      "Right\n",
      "Left\n",
      "Right\n",
      "Left\n",
      "Up\n",
      "Up\n",
      "Right\n",
      "Right\n"
     ]
    }
   ],
   "source": [
    "# Test\n",
    "for i in range(0, 20):\n",
    "  print(sample_from_pmf(pmf, ACTIONS))"
   ]
  },
  {
   "cell_type": "markdown",
   "metadata": {},
   "source": [
    "### 3. `sample_from_sensor_model(state)` [3 points]\n",
    "\n",
    "This function is similar to `sample_from_pmf`. The only difference is that this is specific to the sensor model, and hence, it has the additional parameter `state`, referring to the $S$ in $P(O|S)$. So, in this case, your pmf will be `sensor_model`. You will be returning an observation, which is a value of the sensor. \n",
    "\n",
    "**HINT**: Numpy will be useful here!\n",
    "\n",
    "Please use `generate_random_float` to get a random float between 0 and 1."
   ]
  },
  {
   "cell_type": "code",
   "execution_count": 42,
   "metadata": {},
   "outputs": [],
   "source": [
    "def sample_from_sensor_model(state):\n",
    "  \"\"\"Sample from sensor model\n",
    "  arguments: \n",
    "      state (int, int): a pair (i,j), representing the position in the grid.\n",
    "  returns:\n",
    "      observation (int): the sensor reading that has been sampled\n",
    "  \"\"\"\n",
    "  def pmf(k):\n",
    "    return sensor_model(k, state)\n",
    "\n",
    "  k_list = list(np.arange(STATES[0][0], STATES[-1][0] + 1))\n",
    "  \n",
    "  return sample_from_pmf(pmf, k_list)"
   ]
  },
  {
   "cell_type": "markdown",
   "metadata": {},
   "source": [
    "### 4. `sample_from_transition_model(state, action)` [3 points]\n",
    "This function is also similar to `sample_from_pmf`. The difference is that this is specific to the transition model, and hence, it has additional parameters `state` and `action`, referring to the $S$ and $A$ in $P(T|S,A)$. So, in this case, your pmf will be `transition_model`. You will be returning a state $T$.\n",
    "\n",
    "**HINT**: Numpy will be useful here!\n",
    "\n",
    "Please use `generate_random_float` to get a random float between 0 and 1.\n",
    "``"
   ]
  },
  {
   "cell_type": "code",
   "execution_count": 43,
   "metadata": {},
   "outputs": [],
   "source": [
    "def sample_from_transition_model(state, action):\n",
    "  \"\"\"Sample from transition model\n",
    "  arguments:\n",
    "      state (int, int): a pair (i,j), representing the position in the grid.\n",
    "      action (str): the action taken\n",
    "  returns:\n",
    "      next_state (int, int): a pair (i,j), representing the robot's next position in the grid\n",
    "  \"\"\"\n",
    "  def pmf(T):\n",
    "    return transition_model(T, state, action)\n",
    "  \n",
    "  def next_state(S, A):\n",
    "    transition_offset = {\n",
    "      'Left': (0, -1),\n",
    "      'Right': (0, 1),\n",
    "      'Up': (-1, 0),\n",
    "      'Down': (1, 0)\n",
    "    }\n",
    "    temp = (S[0] + transition_offset[A][0], S[1] + transition_offset[A][1])\n",
    "    if temp in STATES:\n",
    "      return temp\n",
    "    else:\n",
    "      return S\n",
    "  \n",
    "  \n",
    "  return sample_from_pmf(pmf, list(set([next_state(state, some_action) for some_action in ACTIONS])))"
   ]
  },
  {
   "cell_type": "code",
   "execution_count": 44,
   "metadata": {},
   "outputs": [
    {
     "data": {
      "text/plain": [
       "(1, 0)"
      ]
     },
     "execution_count": 44,
     "metadata": {},
     "output_type": "execute_result"
    }
   ],
   "source": [
    "sample_from_transition_model((1, 0), 'Left')"
   ]
  },
  {
   "cell_type": "markdown",
   "metadata": {},
   "source": [
    "## Inference\n",
    "\n",
    "<img src=\"https://i.ibb.co/QmdLWvh/Screen-Shot-2020-01-21-at-7-26-56-AM.png\" style=\"width: 300px;\" />\n",
    "\n",
    "### 1. `sample_from_dbn()` [9 points]\n",
    "\n",
    "In this function, you will be sampling from a dynamic Bayes net. You will need to perform the sampling for the Bayes net shown above, which has three observations, three states and two actions. You will be returning all the sampled states, observations and actions in a dictionary `samples`. The sampling functions you have written earlier will be helpful in this. Make sure you go through the slides, as this will be helpful in creating your algorithm.\n"
   ]
  },
  {
   "cell_type": "code",
   "execution_count": 45,
   "metadata": {},
   "outputs": [],
   "source": [
    "def sample_from_dbn():\n",
    "  \"\"\"Sample from a dynamic bayes network\n",
    "  returns:\n",
    "      samples (dict): A dictionary with the states, observations and actions sampled\n",
    "  \"\"\"\n",
    "  samples = {'states': [], 'observations': [], 'actions': []}\n",
    "  # Your code below\n",
    "\n",
    "  s1 = sample_from_pmf(state_prior, STATES)\n",
    "  o1 = sample_from_sensor_model(s1)\n",
    "  a1 = sample_from_pmf(action_prior, ACTIONS)\n",
    "  s2 = sample_from_transition_model(s1, a1)\n",
    "  o2 = sample_from_sensor_model(s2)\n",
    "  a2 = sample_from_pmf(action_prior, ACTIONS)\n",
    "  s3 = sample_from_transition_model(s2, a2)\n",
    "  o3 = sample_from_sensor_model(s3)\n",
    "  samples['states'].append(s1)\n",
    "  samples['states'].append(s2)\n",
    "  samples['states'].append(s3)\n",
    "  samples['observations'].append(o1)\n",
    "  samples['observations'].append(o2)\n",
    "  samples['observations'].append(o3)\n",
    "  samples['actions'].append(a1)\n",
    "  samples['actions'].append(a2)\n",
    "\n",
    "  return samples"
   ]
  },
  {
   "cell_type": "code",
   "execution_count": 46,
   "metadata": {},
   "outputs": [
    {
     "data": {
      "text/plain": [
       "{'states': [(4, 5), (4, 6), (5, 6)],\n",
       " 'observations': [4, 1, 4],\n",
       " 'actions': ['Right', 'Right']}"
      ]
     },
     "execution_count": 46,
     "metadata": {},
     "output_type": "execute_result"
    }
   ],
   "source": [
    "# Test\n",
    "sample_from_dbn()"
   ]
  },
  {
   "cell_type": "markdown",
   "metadata": {},
   "source": [
    "### 2. `maximum_probable_explanation(actions, observations)` [12 points]\n",
    "In this function, you will implement MPE, which infers the most probable values of the states, given the actions and observations. You will be implementing MPE for the Bayes net above. You are asked to maximize the posterior probability\n",
    "$$P(S_1, S_2, S_3|O_1=o_1, A_1=a_1, O_2=o_2, A_2=a_2, O_3=o_3)$$\n",
    "To do this, you will implement a highly specialized version of the max-product algorithm. You will be returning the three states $S_1, S_2, S_3$ in a list.\n",
    "\n",
    "**Note:** there are three helper functions below. They are partly implemented and is there to aid you through the algorithm, but our way of implementation is not required as long as the main function `maximum_probable_explanation` works correctly."
   ]
  },
  {
   "cell_type": "code",
   "execution_count": 47,
   "metadata": {},
   "outputs": [],
   "source": [
    "def create_lookup_table_for_s1(o1, a1):\n",
    "  \"\"\"Create a lookup table for state 1\n",
    "    arguments:\n",
    "      o1 (int): observation 1\n",
    "      a1 (str): action 1\n",
    "    returns:\n",
    "      g1 (dict): lookup table for s1\n",
    "      v1 (dict): value table for s1\n",
    "  \"\"\"\n",
    "  def product1(s1, s2):\n",
    "    \"\"\"Inner function to calculate the factor value of state 1 and 2\n",
    "      arguments:\n",
    "        s1 (int, int): state 1\n",
    "        s2 (int, int): state 2\n",
    "      returns:\n",
    "        value of the factor (float)\n",
    "    \"\"\"\n",
    "    return state_prior(s1) * sensor_model(o1, s1) * transition_model(s2, s1, a1)\n",
    "    \n",
    "  # Your code below for create_lookup_table_for_s1\n",
    "  g1 = {}\n",
    "  v1 = {}\n",
    "  for s2 in STATES:\n",
    "    max_s1 = None\n",
    "    max_prd = None\n",
    "    for s1 in STATES:\n",
    "      prd = product1(s1, s2)\n",
    "      if max_prd is None or prd > max_prd:\n",
    "        max_s1 = s1\n",
    "        max_prd = prd\n",
    "    g1[s2] = max_s1\n",
    "    v1[s2] = max_prd\n",
    "\n",
    "  # Your code above\n",
    "  return g1, v1\n",
    "\n",
    "def create_lookup_table_for_s2(o2, a2, v1):\n",
    "  \"\"\"Create a lookup table for state 2\n",
    "    arguments:\n",
    "      o2 (int): observation 2\n",
    "      a2 (str): action 2\n",
    "      v1 (dict): value table for state 1\n",
    "    returns:\n",
    "      g2 (dict): lookup table for s2\n",
    "      v2 (dict): value table for s2\n",
    "  \"\"\"\n",
    "  def product2(s2, s3):\n",
    "    \"\"\"Inner function to calculate the factor value of state 2 and 3\n",
    "      arguments:\n",
    "        s2 (int, int): state 2\n",
    "        s3 (int, int): state 3\n",
    "      returns:\n",
    "        value of the factor (float)\n",
    "    \"\"\"\n",
    "    return v1[s2] * sensor_model(o2, s2) * transition_model(s3, s2, a2)\n",
    "\n",
    "  g2 = {}\n",
    "  v2 = {}\n",
    "  # Your code below for create_lookup_table_for_s2\n",
    "  for s3 in STATES:\n",
    "    max_s2 = None\n",
    "    max_prd = None\n",
    "    for s2 in STATES:\n",
    "      prd = product2(s2, s3)\n",
    "      if max_prd is None or prd > max_prd:\n",
    "        max_s2 = s2\n",
    "        max_prd = prd\n",
    "    g2[s3] = max_s2\n",
    "    v2[s3] = max_prd\n",
    "\n",
    "  # Your code above\n",
    "  return g2, v2\n",
    "\n",
    "\n",
    "def create_lookup_table_for_s3(o3, v2):\n",
    "  \"\"\"Create a lookup table for state 3\n",
    "    arguments:\n",
    "      o3 (int): observation 3\n",
    "      v2 (dict): value table for s2\n",
    "    returns:\n",
    "      g3 (state): lookup table for s3\n",
    "      v3 (float): value table for s3\n",
    "  \"\"\"\n",
    "  def product3(s3):\n",
    "    \"\"\"Inner function to calculate the factor value of state 2 and 3\n",
    "      arguments:\n",
    "        s3 (int, int): state 3\n",
    "      returns:\n",
    "        value of the factor (float)\n",
    "    \"\"\"\n",
    "    return v2[s3] * sensor_model(o3, s3)\n",
    "\n",
    "  g3 = None\n",
    "  v3 = None\n",
    "  # Your code below for create_lookup_table_for_s3\n",
    "  for s3 in STATES:\n",
    "    prd = product3(s3)\n",
    "    if v3 is None or prd > v3:\n",
    "      g3 = s3\n",
    "      v3 = prd\n",
    "  \n",
    "  # Your code above\n",
    "  return g3, v3\n",
    "\n",
    "def maximum_probable_explanation(actions, observations):\n",
    "  \"\"\"Calculate the most probable states given the actions and observations\n",
    "      arguments:\n",
    "        actions ([str]): Array of all actions taken\n",
    "        observations ([int]): Sensor measurements\n",
    "      returns:\n",
    "        list of most probable states ([(int, int)])\n",
    "  \"\"\"\n",
    "  # Known values\n",
    "  o1, o2, o3 = observations\n",
    "  a1, a2 = actions\n",
    "\n",
    "  # eliminate S1 -> lookup table S1=g1(S2)\n",
    "  g1, v1 = create_lookup_table_for_s1(o1, a1)\n",
    "\n",
    "  # eliminate S2 -> lookup table S2=g2(S3)\n",
    "  g2, v2 = create_lookup_table_for_s2(o2, a2, v1)\n",
    "\n",
    "  # eliminate S3 -> lookup table S3=g3()\n",
    "  g3, v3 = create_lookup_table_for_s3(o3, v2)\n",
    "\n",
    "  # back-substitute (use the lookup tables to find the most probable states)\n",
    "  # Your code below\n",
    "\n",
    "  return[g1[g2[g3]], g2[g3], g3]\n"
   ]
  },
  {
   "cell_type": "code",
   "execution_count": 48,
   "metadata": {},
   "outputs": [],
   "source": [
    "actions = ['Down', 'Down']\n",
    "observations = [3, 4, 5]\n",
    "correct_states = [(3,3), (4,3), (5,3)]\n",
    "assert maximum_probable_explanation(actions, observations) == correct_states"
   ]
  },
  {
   "cell_type": "code",
   "execution_count": 49,
   "metadata": {},
   "outputs": [
    {
     "ename": "NameError",
     "evalue": "name 'g1' is not defined",
     "output_type": "error",
     "traceback": [
      "\u001b[0;31m---------------------------------------------------------------------------\u001b[0m",
      "\u001b[0;31mNameError\u001b[0m                                 Traceback (most recent call last)",
      "\u001b[0;32m<ipython-input-49-d8555c8d69ac>\u001b[0m in \u001b[0;36m<module>\u001b[0;34m\u001b[0m\n\u001b[0;32m----> 1\u001b[0;31m \u001b[0;34m[\u001b[0m\u001b[0mg1\u001b[0m\u001b[0;34m[\u001b[0m\u001b[0mg2\u001b[0m\u001b[0;34m[\u001b[0m\u001b[0mg3\u001b[0m\u001b[0;34m]\u001b[0m\u001b[0;34m]\u001b[0m\u001b[0;34m,\u001b[0m \u001b[0mg2\u001b[0m\u001b[0;34m[\u001b[0m\u001b[0mg3\u001b[0m\u001b[0;34m]\u001b[0m\u001b[0;34m,\u001b[0m \u001b[0mg3\u001b[0m\u001b[0;34m]\u001b[0m\u001b[0;34m\u001b[0m\u001b[0;34m\u001b[0m\u001b[0m\n\u001b[0m",
      "\u001b[0;31mNameError\u001b[0m: name 'g1' is not defined"
     ]
    }
   ],
   "source": [
    "[g1[g2[g3]], g2[g3], g3]"
   ]
  },
  {
   "cell_type": "markdown",
   "metadata": {},
   "source": [
    "### EXTRA CREDIT: `general_maximum_probable_explanation(actions, observations)` [5 points]\n",
    "\n",
    "You can receive extra credit if your implementation of MPE is for a Bayes Net having the same structure as above, but having any number of states. So, if you're given $N$ observations and $N - 1$ actions, you will be returning $N$ states."
   ]
  },
  {
   "cell_type": "code",
   "execution_count": 89,
   "metadata": {},
   "outputs": [],
   "source": [
    "def general_maximum_probable_explanation(actions, observations):\n",
    "  \"\"\"Calculate the most probable states given the actions and observations\n",
    "      arguments:\n",
    "        actions ([str]): Array of all actions taken\n",
    "        observations ([int]): Sensor measurements\n",
    "      returns:\n",
    "        list of most probable states.\n",
    "  \"\"\"\n",
    "  if len(actions) == 0:\n",
    "    # apply simple bayes rule here\n",
    "    likelihood = {}\n",
    "    max_state = None\n",
    "    max_val = None\n",
    "    for state in STATES:\n",
    "      likelihood[state] = sensor_model(observations[0], state) * state_prior(state)\n",
    "      if max_val is None or likelihood[state] > max_val:\n",
    "        max_val = likelihood[state]\n",
    "        max_state = state\n",
    "    return [state]\n",
    "    \n",
    "  actions = actions.copy()\n",
    "  observations = observations.copy()\n",
    "  lookup_tables = [];\n",
    "  start = True\n",
    "  while True:\n",
    "    if start:\n",
    "      o1 = observations.pop(0)\n",
    "      a1 = actions.pop(0)\n",
    "      g1, curr_v = create_lookup_table_for_s1(o1, a1)\n",
    "      lookup_tables.append(g1)\n",
    "      start = False\n",
    "    else:\n",
    "      if len(actions) != 0:\n",
    "        curr_o = observations.pop(0)\n",
    "        curr_a = actions.pop(0)\n",
    "        curr_g, curr_v = create_lookup_table_for_s2(curr_o, curr_a, curr_v)\n",
    "        lookup_tables.append(curr_g)\n",
    "      else:\n",
    "        curr_o = observations.pop(0)\n",
    "        curr_g, curr_v = create_lookup_table_for_s3(curr_o, curr_v)\n",
    "        lookup_tables.append(curr_g)\n",
    "        break\n",
    "  \n",
    "  states = []\n",
    "  curr_state = lookup_tables.pop()\n",
    "  states.append(curr_state)\n",
    "  while len(lookup_tables) != 0:\n",
    "    curr_table = lookup_tables.pop()\n",
    "    curr_state = curr_table[curr_state]\n",
    "    states.insert(0, curr_state)\n",
    "    \n",
    "  return states"
   ]
  },
  {
   "cell_type": "code",
   "execution_count": null,
   "metadata": {},
   "outputs": [],
   "source": [
    "general_maximum_probable_explanation(actions, observations)"
   ]
  },
  {
   "cell_type": "code",
   "execution_count": null,
   "metadata": {},
   "outputs": [],
   "source": [
    "observations"
   ]
  },
  {
   "cell_type": "code",
   "execution_count": null,
   "metadata": {},
   "outputs": [],
   "source": [
    "def test_action_prior():\n",
    "    ret = []\n",
    "    for test_param in ACTIONS:\n",
    "        ret.append({\n",
    "            'param': test_param,\n",
    "            'result': action_prior(test_param)\n",
    "        })\n",
    "    return ret"
   ]
  },
  {
   "cell_type": "code",
   "execution_count": null,
   "metadata": {},
   "outputs": [],
   "source": [
    "def test_state_prior():\n",
    "    ret = []\n",
    "    for state in STATES:\n",
    "        ret.append({\n",
    "            'param': state,\n",
    "            'result': state_prior(state)\n",
    "        })\n",
    "    return ret"
   ]
  },
  {
   "cell_type": "code",
   "execution_count": null,
   "metadata": {},
   "outputs": [],
   "source": [
    "def test_sensor_model():\n",
    "    ret = []\n",
    "    for state in STATES:\n",
    "        for k in range(10):\n",
    "            ret.append({\n",
    "                'param': (k, state),\n",
    "                'result': sensor_model(k, state)\n",
    "            })\n",
    "    return ret"
   ]
  },
  {
   "cell_type": "code",
   "execution_count": null,
   "metadata": {},
   "outputs": [],
   "source": [
    "def test_transition_model():\n",
    "    ret = []\n",
    "    for S in STATES:\n",
    "        for T in STATES:\n",
    "            for a in ACTIONS:\n",
    "                ret.append({\n",
    "                    'param': (T, S, a),\n",
    "                    'result': transition_model(T, S, a)\n",
    "                })\n",
    "    return ret"
   ]
  },
  {
   "cell_type": "code",
   "execution_count": null,
   "metadata": {},
   "outputs": [],
   "source": [
    "def test_transition_model_portal():\n",
    "    ret = []\n",
    "    for S in STATES:\n",
    "        for T in STATES:\n",
    "            for a in ACTIONS:\n",
    "                ret.append({\n",
    "                    'param': (T, S, a),\n",
    "                    'result': transition_model_portal(T, S, a)\n",
    "                })\n",
    "    return ret"
   ]
  },
  {
   "cell_type": "code",
   "execution_count": null,
   "metadata": {},
   "outputs": [],
   "source": [
    "np.random.seed(66)\n",
    "_N = 100000\n",
    "_pseudorandom_list = np.random.rand(_N)\n",
    "_rand_idx = 0\n",
    "\n",
    "def generate_random_float():\n",
    "    global _rand_idx\n",
    "    global _N\n",
    "    ret = _pseudorandom_list[_rand_idx % _N]\n",
    "    _rand_idx = _rand_idx + 1\n",
    "    return ret\n",
    "\n",
    "def normalize(nparr):\n",
    "    return nparr / np.sum(np.array(nparr))"
   ]
  },
  {
   "cell_type": "code",
   "execution_count": null,
   "metadata": {},
   "outputs": [],
   "source": [
    "def test_calculate_cdf():\n",
    "    ret = []\n",
    "    num_outcomes = [0, 1, 2, 5, 10, 20, 50, 100]\n",
    "    for num_outcome in num_outcomes:\n",
    "        ordered_outcome = [str(i) for i in range(num_outcome)]\n",
    "        ordered_values = normalize([generate_random_float() for _ in range(num_outcome)])\n",
    "        table = dict(zip(ordered_outcome, ordered_values))\n",
    "        def pmf(outcome):\n",
    "            return table[outcome]\n",
    "        cdf = calculate_cdf(pmf, ordered_outcome)\n",
    "        curr_test_result = {}\n",
    "        curr_test_result['size'] = num_outcome\n",
    "        curr_test_result['function'] = {}\n",
    "        for outcome in ordered_outcome:\n",
    "            curr_test_result['function'][outcome] = cdf(outcome)\n",
    "        ret.append(curr_test_result)\n",
    "    return ret"
   ]
  },
  {
   "cell_type": "code",
   "execution_count": null,
   "metadata": {},
   "outputs": [],
   "source": [
    "def test_sample_from_pmf():\n",
    "    ret = []\n",
    "    num_outcomes = [0, 1, 2, 5, 10, 20, 50, 100]\n",
    "    sample_size = 100\n",
    "    for num_outcome in num_outcomes:\n",
    "        ordered_outcome = [str(i) for i in range(num_outcome)]\n",
    "        ordered_values = normalize([generate_random_float() for _ in range(num_outcome)])\n",
    "        table = dict(zip(ordered_outcome, ordered_values))\n",
    "        def pmf(outcome):\n",
    "            return table[outcome]\n",
    "        cdf = calculate_cdf(pmf, ordered_outcome)\n",
    "        curr_test_result = {}\n",
    "        curr_test_result['size'] = num_outcome\n",
    "        curr_test_result['samples'] = []\n",
    "        for _ in range(sample_size):\n",
    "            curr_test_result['samples'].append(sample_from_pmf(pmf, ordered_outcome))\n",
    "        ret.append(curr_test_result)\n",
    "    return ret"
   ]
  },
  {
   "cell_type": "code",
   "execution_count": null,
   "metadata": {},
   "outputs": [],
   "source": [
    "def test_sample_from_sensor_model():\n",
    "    sample_size_each_state = 100\n",
    "    ret = []\n",
    "    for state in STATES:\n",
    "        for _ in range(sample_size_each_state):\n",
    "            ret.append({\n",
    "                'state': state,\n",
    "                'result': sample_from_sensor_model(state)\n",
    "            })\n",
    "    return ret"
   ]
  },
  {
   "cell_type": "code",
   "execution_count": null,
   "metadata": {},
   "outputs": [],
   "source": [
    "def test_sample_from_transition_model():\n",
    "    sample_size_each_state_action = 100\n",
    "    ret = []\n",
    "    for state in STATES:\n",
    "        for action in ACTIONS:\n",
    "            for _ in range(sample_size_each_state_action):\n",
    "                ret.append({\n",
    "                    'state_action': (state, action),\n",
    "                    'result': sample_from_transition_model(state, action)\n",
    "                })\n",
    "    return ret"
   ]
  },
  {
   "cell_type": "code",
   "execution_count": null,
   "metadata": {},
   "outputs": [],
   "source": [
    "def test_sample_from_dbn():\n",
    "    sample_size = 100\n",
    "    ret = []\n",
    "    for _ in range(sample_size):\n",
    "        ret.append(sample_from_dbn())\n",
    "    return ret"
   ]
  },
  {
   "cell_type": "code",
   "execution_count": 53,
   "metadata": {},
   "outputs": [],
   "source": [
    "def test_maximum_probable_explanation():\n",
    "    sample_size = 50\n",
    "    ret = []\n",
    "    for _ in range(sample_size):\n",
    "        sampled = sample_from_dbn()\n",
    "        sampled['states'] = maximum_probable_explanation(sampled['actions'], sampled['observations'])\n",
    "        ret.append(sampled)\n",
    "    return ret"
   ]
  },
  {
   "cell_type": "code",
   "execution_count": 81,
   "metadata": {},
   "outputs": [],
   "source": [
    "def sample_from_dbn_general(n):\n",
    "  \"\"\"Sample from a dynamic bayes network\n",
    "  returns:\n",
    "      samples (dict): A dictionary with the states, observations and actions sampled\n",
    "  \"\"\"\n",
    "  samples = {'states': [], 'observations': [], 'actions': []}\n",
    "  # Your code below\n",
    "\n",
    "  s1 = sample_from_pmf(state_prior, STATES)\n",
    "  o1 = sample_from_sensor_model(s1)\n",
    "  samples['states'].append(s1)\n",
    "  samples['observations'].append(o1)\n",
    "  if n == 1:\n",
    "    return samples\n",
    "  \n",
    "  s = s1\n",
    "  for _ in range(n - 1):\n",
    "    a = sample_from_pmf(action_prior, ACTIONS)\n",
    "    s = sample_from_transition_model(s, a)\n",
    "    o = sample_from_sensor_model(s)\n",
    "    samples['actions'].append(a)\n",
    "    samples['states'].append(s)\n",
    "    samples['observations'].append(o)\n",
    "    \n",
    "  print(samples)\n",
    "  return samples"
   ]
  },
  {
   "cell_type": "code",
   "execution_count": 92,
   "metadata": {},
   "outputs": [],
   "source": [
    "def test_general_maximum_probable_explanation():\n",
    "    sample_size = 50\n",
    "    ret = []\n",
    "    for i in range(sample_size):\n",
    "        sampled = sample_from_dbn_general(i + 1)\n",
    "        print(sampled)\n",
    "        sampled['states'] = general_maximum_probable_explanation(sampled['actions'], sampled['observations'])\n",
    "        ret.append(sampled)\n",
    "    return ret"
   ]
  },
  {
   "cell_type": "code",
   "execution_count": null,
   "metadata": {},
   "outputs": [],
   "source": []
  },
  {
   "cell_type": "code",
   "execution_count": 96,
   "metadata": {},
   "outputs": [
    {
     "name": "stdout",
     "output_type": "stream",
     "text": [
      "{'states': [(7, 6)], 'observations': [7], 'actions': []}\n",
      "{'states': [(4, 5), (4, 6)], 'observations': [4, 4], 'actions': ['Right']}\n",
      "{'states': [(4, 5), (4, 6)], 'observations': [4, 4], 'actions': ['Right']}\n",
      "{'states': [(4, 5), (3, 5), (3, 6)], 'observations': [4, 9, 3], 'actions': ['Up', 'Right']}\n",
      "{'states': [(4, 5), (3, 5), (3, 6)], 'observations': [4, 9, 3], 'actions': ['Up', 'Right']}\n",
      "{'states': [(4, 8), (4, 7), (5, 7), (5, 8)], 'observations': [4, 4, 5, 5], 'actions': ['Right', 'Right', 'Right']}\n",
      "{'states': [(4, 8), (4, 7), (5, 7), (5, 8)], 'observations': [4, 4, 5, 5], 'actions': ['Right', 'Right', 'Right']}\n",
      "{'states': [(3, 3), (3, 4), (2, 4), (2, 3), (2, 2)], 'observations': [8, 9, 0, 2, 2], 'actions': ['Right', 'Right', 'Left', 'Right']}\n",
      "{'states': [(3, 3), (3, 4), (2, 4), (2, 3), (2, 2)], 'observations': [8, 9, 0, 2, 2], 'actions': ['Right', 'Right', 'Left', 'Right']}\n"
     ]
    }
   ],
   "source": [
    "ret = test_general_maximum_probable_explanation()"
   ]
  },
  {
   "cell_type": "code",
   "execution_count": null,
   "metadata": {},
   "outputs": [],
   "source": []
  }
 ],
 "metadata": {
  "kernelspec": {
   "display_name": "Python 3",
   "language": "python",
   "name": "python3"
  },
  "language_info": {
   "codemirror_mode": {
    "name": "ipython",
    "version": 3
   },
   "file_extension": ".py",
   "mimetype": "text/x-python",
   "name": "python",
   "nbconvert_exporter": "python",
   "pygments_lexer": "ipython3",
   "version": "3.7.4"
  }
 },
 "nbformat": 4,
 "nbformat_minor": 2
}
